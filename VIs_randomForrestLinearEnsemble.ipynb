{
  "cells": [
    {
      "cell_type": "markdown",
      "metadata": {
        "id": "view-in-github",
        "colab_type": "text"
      },
      "source": [
        "<a href=\"https://colab.research.google.com/github/gitsadap/RFforVIs/blob/main/VIs_randomForrestLinearEnsemble.ipynb\" target=\"_parent\"><img src=\"https://colab.research.google.com/assets/colab-badge.svg\" alt=\"Open In Colab\"/></a>"
      ]
    },
    {
      "cell_type": "code",
      "source": [],
      "metadata": {
        "id": "GaOsoTxexpHs"
      },
      "execution_count": null,
      "outputs": []
    },
    {
      "cell_type": "markdown",
      "source": [
        "Training & Validate"
      ],
      "metadata": {
        "id": "Ae9J-UYGxoUg"
      }
    },
    {
      "cell_type": "code",
      "execution_count": null,
      "metadata": {
        "id": "YFE-ktNRz0QM"
      },
      "outputs": [],
      "source": [
        "import pandas as pd\n",
        "from sklearn.ensemble import RandomForestRegressor\n",
        "from sklearn.linear_model import LinearRegression\n",
        "from sklearn.metrics import r2_score, mean_squared_error\n",
        "import matplotlib.pyplot as plt\n",
        "import seaborn as sns\n",
        "from sklearn.ensemble import StackingRegressor\n",
        "from sklearn.svm import SVR\n",
        "\n",
        "from sklearn.model_selection import RandomizedSearchCV\n",
        "import numpy as np\n"
      ]
    },
    {
      "cell_type": "code",
      "execution_count": null,
      "metadata": {
        "id": "VANaqmEx52nn"
      },
      "outputs": [],
      "source": [
        "df = pd.read_csv(\"training-dataset.csv\")"
      ]
    },
    {
      "cell_type": "code",
      "execution_count": null,
      "metadata": {
        "id": "rE_zd_3KhuYu"
      },
      "outputs": [],
      "source": []
    },
    {
      "cell_type": "code",
      "execution_count": null,
      "metadata": {
        "id": "cX6DUptx6DG-"
      },
      "outputs": [],
      "source": [
        "X=df[['NDVI', 'NDRE', 'TVI', 'GNDVI']]\n",
        "y=df['Carbon-stock']"
      ]
    },
    {
      "cell_type": "code",
      "execution_count": null,
      "metadata": {
        "colab": {
          "background_save": true
        },
        "id": "467Otm6s7BjO",
        "outputId": "d94a43f2-993f-4d7b-9a40-eb3afb429710"
      },
      "outputs": [
        {
          "ename": "NameError",
          "evalue": "name 'X' is not defined",
          "output_type": "error",
          "traceback": [
            "\u001b[0;31m---------------------------------------------------------------------------\u001b[0m",
            "\u001b[0;31mNameError\u001b[0m                                 Traceback (most recent call last)",
            "\u001b[0;32m<ipython-input-1-c6518bc36238>\u001b[0m in \u001b[0;36m<cell line: 2>\u001b[0;34m()\u001b[0m\n\u001b[1;32m      1\u001b[0m \u001b[0;32mfrom\u001b[0m \u001b[0msklearn\u001b[0m\u001b[0;34m.\u001b[0m\u001b[0mmodel_selection\u001b[0m \u001b[0;32mimport\u001b[0m \u001b[0mtrain_test_split\u001b[0m\u001b[0;34m\u001b[0m\u001b[0;34m\u001b[0m\u001b[0m\n\u001b[0;32m----> 2\u001b[0;31m \u001b[0mX_train\u001b[0m\u001b[0;34m,\u001b[0m \u001b[0mX_test\u001b[0m\u001b[0;34m,\u001b[0m \u001b[0my_train\u001b[0m\u001b[0;34m,\u001b[0m \u001b[0my_test\u001b[0m \u001b[0;34m=\u001b[0m \u001b[0mtrain_test_split\u001b[0m\u001b[0;34m(\u001b[0m\u001b[0mX\u001b[0m\u001b[0;34m,\u001b[0m \u001b[0my\u001b[0m\u001b[0;34m,\u001b[0m \u001b[0mtest_size\u001b[0m\u001b[0;34m=\u001b[0m\u001b[0;36m0.2\u001b[0m\u001b[0;34m,\u001b[0m \u001b[0mrandom_state\u001b[0m\u001b[0;34m=\u001b[0m\u001b[0;36m42\u001b[0m\u001b[0;34m)\u001b[0m\u001b[0;34m\u001b[0m\u001b[0;34m\u001b[0m\u001b[0m\n\u001b[0m",
            "\u001b[0;31mNameError\u001b[0m: name 'X' is not defined"
          ]
        }
      ],
      "source": [
        "from sklearn.model_selection import train_test_split\n",
        "X_train, X_test, y_train, y_test = train_test_split(X, y, test_size=0.3, random_state=1000)"
      ]
    },
    {
      "cell_type": "code",
      "execution_count": null,
      "metadata": {
        "id": "rNyUGup_7MeL"
      },
      "outputs": [],
      "source": [
        "from sklearn.ensemble import RandomForestRegressor\n",
        "from sklearn.linear_model import LinearRegression\n",
        "from sklearn.metrics import r2_score\n",
        "from sklearn.metrics import mean_absolute_error, mean_squared_error"
      ]
    },
    {
      "cell_type": "code",
      "execution_count": null,
      "metadata": {
        "colab": {
          "base_uri": "https://localhost:8080/"
        },
        "id": "HJYHJP-BlcAw",
        "outputId": "78069e05-b3af-45fb-b999-11f724b0bbdf"
      },
      "outputs": [
        {
          "name": "stdout",
          "output_type": "stream",
          "text": [
            "   Ntree  Mtry         RMSE\n",
            "0    100     6  1685.902515\n",
            "1    200    25  1596.411436\n",
            "2    300     6  1695.947502\n",
            "3    400    20  1585.409351\n",
            "4    500     5  1637.821872\n",
            "5    600    23  1693.865904\n",
            "6    700    18  1601.571907\n",
            "7    800     1  1632.681742\n",
            "8    900     1  1599.889507\n",
            "9   1000    20  1735.444762\n"
          ]
        }
      ],
      "source": [
        "param_grid = {\n",
        "  'ntree_values ': [50, 100,200,300,400,500,1000],  # Ntree values from 50 to 1000  (defalut 200)\n",
        "  'mtry_values ': np.arange(1, 26)  # Mtry values from 1 to 25 with interval 1 (defalut 20)\n",
        "}\n",
        "\n",
        "all_rmse = []\n",
        "\n",
        "# Loop through each Ntree value\n",
        "for n in ntree_values:\n",
        "  # Define a temporary parameter grid for this Ntree value\n",
        "  param_grid = {\n",
        "    'n_estimators': [n],  # Fix n_estimators for this loop\n",
        "    'max_features': mtry_values  # Explore Mtry values\n",
        "  }\n",
        "\n",
        "  # Create a Random Forest Regressor\n",
        "  rf_model = RandomForestRegressor()\n",
        "\n",
        "  # Define the RandomizedSearchCV object\n",
        "  random_search = RandomizedSearchCV(estimator=rf_model, param_distributions=param_grid,\n",
        "                                     scoring='neg_mean_squared_error', n_iter=5, cv=3)\n",
        "\n",
        "  # Fit the model with randomized search\n",
        "  random_search.fit(X, y)\n",
        "\n",
        "  # Get the best model for this Ntree\n",
        "  best_model = random_search.best_estimator_\n",
        "\n",
        "  # Get the best RMSE for this Ntree\n",
        "  best_rmse = mean_squared_error(y, random_search.best_estimator_.predict(X))**0.5\n",
        "\n",
        "  # Store Ntree, Mtry (from best model), and RMSE in a dictionary\n",
        "  result = {'Ntree': n, 'Mtry': best_model.max_features, 'RMSE': best_rmse}\n",
        "  all_rmse.append(result)\n",
        "\n",
        "# Create a Pandas DataFrame from all_rmse list\n",
        "df_results = pd.DataFrame(all_rmse)\n",
        "\n",
        "# Print the DataFrame with all Ntree, Mtry, and RMSE combinations\n",
        "print(df_results.to_string())"
      ]
    },
    {
      "cell_type": "code",
      "execution_count": null,
      "metadata": {
        "colab": {
          "base_uri": "https://localhost:8080/",
          "height": 593
        },
        "id": "Mak-_3lV7cDh",
        "outputId": "29abac6a-8218-439c-b081-a6e3e490ec1f"
      },
      "outputs": [
        {
          "name": "stdout",
          "output_type": "stream",
          "text": [
            "R-squared: 0.956657044658695\n",
            "Mean Absolute Error: 1056.1158587354114\n",
            "Root Mean Squared Error: 1550.996303753955\n",
            "Feature: NDVI, Importance: 0.1874\n",
            "Feature: NDRE, Importance: 0.1806\n",
            "Feature: TVI, Importance: 0.4024\n",
            "Feature: GNDVI, Importance: 0.2296\n"
          ]
        },
        {
          "data": {
            "image/png": "[encoded data removed]",
            "text/plain": [
              "<Figure size 640x480 with 1 Axes>"
            ]
          },
          "metadata": {},
          "output_type": "display_data"
        }
      ],
      "source": [
        "# Define base learners (linear regression models)\n",
        "def get_base_learners(n_estimators):\n",
        "  base_learners = []\n",
        "  for _ in range(n_estimators):\n",
        "    base_learners.append(LinearRegression())\n",
        "  return base_learners\n",
        "\n",
        "# Ensemble model with Random Forest\n",
        "def ensemble_model(X, y, n_estimators=400):\n",
        "  base_learners = get_base_learners(n_estimators)\n",
        "  ensemble = RandomForestRegressor()\n",
        "  ensemble.fit(X, y)\n",
        "  return ensemble\n",
        "\n",
        "# Train the ensemble model\n",
        "ensemble_model = ensemble_model(X, y)\n",
        "\n",
        "# New ensemble equation (symbolic representation)\n",
        "# This represents the average prediction from all the linear models in the forest\n",
        "# Make predictions\n",
        "y_pred = ensemble_model.predict(X)\n",
        "\n",
        "# Calculate R-squared\n",
        "r2 = r2_score(y, y_pred)\n",
        "\n",
        "# Print results\n",
        "\n",
        "print(\"R-squared:\", r2)\n",
        "\n",
        "import matplotlib.pyplot as plt\n",
        "import numpy as np\n",
        "\n",
        "plt.scatter(y, y_pred)\n",
        "plt.xlabel(\"Actual Values\")\n",
        "plt.ylabel(\"Predicted Values\")\n",
        "plt.title(\"Actual vs Predicted Values (Ensemble Model)\")\n",
        "\n",
        "mae = mean_absolute_error(y, y_pred)\n",
        "print(f\"Mean Absolute Error: {mae}\")\n",
        "\n",
        "# Calculate Root Mean Squared Error (RMSE)\n",
        "rmse = mean_squared_error(y, y_pred, squared=False)  # Avoids squaring the error\n",
        "print(f\"Root Mean Squared Error: {rmse}\")\n",
        "\n",
        "feature_importances = ensemble_model.feature_importances_\n",
        "feature_names = X.columns  # Assuming column names are available\n",
        "\n",
        "# Print feature importances (relative contribution to predictions)\n",
        "for feature, importance in zip(feature_names, feature_importances):\n",
        "  print(f\"Feature: {feature}, Importance: {importance:.4f}\")\n",
        "\n",
        "\n",
        "# the line equation:\n",
        "ensemble_model.score(X,y)\n",
        "plt.show()\n"
      ]
    },
    {
      "cell_type": "markdown",
      "source": [
        "Utilizing (TVI, GNDVI, NDVI, NDRE ensembled)"
      ],
      "metadata": {
        "id": "DlbEemThx14P"
      }
    },
    {
      "cell_type": "code",
      "source": [
        "import joblib\n",
        "joblib.dump(model, 'ensembleVIs.joblib')"
      ],
      "metadata": {
        "id": "XMt7Zgpix-Oz"
      },
      "execution_count": null,
      "outputs": []
    },
    {
      "cell_type": "code",
      "source": [
        "loaded_model = joblib.load('ensembleVIs.joblib')"
      ],
      "metadata": {
        "id": "VQHZbs_FyLN8"
      },
      "execution_count": null,
      "outputs": []
    },
    {
      "cell_type": "markdown",
      "source": [
        "Preparing a VIs file (TVI, GNDVI, NDVI, and NDRE) in csv format for ensembling"
      ],
      "metadata": {
        "id": "aQbJtewFyZLp"
      }
    },
    {
      "cell_type": "code",
      "source": [
        "new_data = pd.read_csv(\"VIs.csv\")\n",
        "\n",
        "# Make predictions\n",
        "predictions = model.predict(new_data)\n",
        "print(predictions)\n",
        "\n",
        "#export\n",
        "import csv\n",
        "\n",
        "# Sample data (replace with your actual data)\n",
        "data = predictions\n",
        "\n",
        "# Specify the CSV file path\n",
        "filename = \"ensemble-RF.csv\"\n",
        "\n",
        "# Open the CSV file in write mode\n",
        "with open(filename, \"w\", newline=\"\") as csvfile:\n",
        "    csv_writer = csv.writer(csvfile)\n",
        "\n",
        "    # Convert the Pandas Series to a list of lists for writerows\n",
        "    data_list = [[x] for x in data]  # Each inner list represents a row\n",
        "\n",
        "    # Write the data to the CSV file\n",
        "    csv_writer.writerows(data_list)  # Use writerows for multiple rows\n",
        "\n",
        "print(\"Data exported to\", filename)"
      ],
      "metadata": {
        "id": "XL1ieDeiyN5_"
      },
      "execution_count": null,
      "outputs": []
    }
  ],
  "metadata": {
    "colab": {
      "provenance": [],
      "include_colab_link": true
    },
    "kernelspec": {
      "display_name": "Python 3",
      "name": "python3"
    },
    "language_info": {
      "name": "python"
    }
  },
  "nbformat": 4,
  "nbformat_minor": 0
}